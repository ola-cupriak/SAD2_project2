{
 "cells": [
  {
   "cell_type": "code",
   "execution_count": 2,
   "metadata": {},
   "outputs": [],
   "source": [
    "import copy\n",
    "import matplotlib.pyplot as plt\n",
    "import numpy as np\n",
    "import pandas as pd\n",
    "from tqdm import tqdm"
   ]
  },
  {
   "attachments": {},
   "cell_type": "markdown",
   "metadata": {},
   "source": [
    "First general equation:\n",
    "\n",
    "$$ P(C|R,S,W) = P(C|R,S) = \\frac{P(C,S,R)}{P(S,R)} = \\frac{P(C,S,R)}{\\sum_{C}P(C,S,R)} = \\frac{P(C)P(S|C)P(R|C)}{\\sum_{C}P(C)P(S|C)P(R|C)} = \\frac{P(C)P(S|C)P(R|C)}{C_1}$$\n",
    "\n",
    "1) $$ \\small P(C = T|R = T, S = T, W = T) = \\frac{P(C = T)P(S = T|C = T)P(R = T|C = T)}{P(C = T)P(S = T|C = T)P(R = T|C = T) + P(C = F)P(S = T|C = F)P(R = T|C = F)} = \\frac{0.5 * 0.1 * 0.8}{0.5 * 0.1 * 0.8 + 0.5 * 0.5 * 0.2} \\approx 0.444 $$\n",
    "\n",
    "2) $$ \\small P(C = T|R = F, S = T, W = T) = \\frac{P(C = T)P(S = T|C = T)P(R = F|C = T)}{P(C = T)P(S = T|C = T)P(R = F|C = T) + P(C = F)P(S = T|C = F)P(R = F|C = F)} = \\frac{0.5 * 0.1 * 0.2}{0.5 * 0.1 * 0.2 + 0.5 * 0.5 * 0.8} \\approx 0.048 $$\n",
    "\n",
    "Second geneal equation:\n",
    "$$ P(R|C,S,W) = \\frac{P(R,C,S,W)}{P(C,S,W)} = \\frac{P(R,C,S,W)}{\\sum_{R}P(R,C,S,W)} = \\frac{P(C)P(S|C)P(R|C)P(W|S,R)}{\\sum_{R}P(C)P(S|C)P(R|C)P(W|S,R)} = \\frac{P(C)P(S|C)P(R|C)P(W|S,R)}{C_2} $$\n",
    "\n",
    "3) $$ \\small P(R = T|C = T, S = T, W = T) = \\frac{P(C = T)P(S = T|C = T)P(R = T|C = T)P(W = T|S = T,R = T)}{P(C = T)P(S = T|C = T)P(R = T|C = T)P(W = T|S = T,R = T) + P(C = T)P(S = T|C = T)P(R = F|C = T)P(W = T|S = T,R = F)} = \\\\ = \\frac{0.8 * 0.99}{0.8 * 0.99 + 0.2 * 0.9} \\approx 0.815 $$\n",
    "\n",
    "4) $$ \\small P(R = T|C = F, S = T, W = T) = \\frac{P(C = F)P(S = T|C = F)P(R = T|C = F)P(W = T|S = T,R = T)}{P(C = F)P(S = T|C = F)P(R = T|C = F)P(W = T|S = T,R = T) + P(C = F)P(S = T|C = F)P(R = F|C = F)P(W = T|S = T,R = F)} = \\\\ = \\frac{0.2 * 0.99}{0.2 * 0.99 + 0.8 * 0.9} \\approx 0.216 $$\n"
   ]
  },
  {
   "cell_type": "markdown",
   "metadata": {},
   "source": [
    "Implement the Gibbs sampler sketched above for the Bayesian network in Figure 1 and draw 100 samples from the joint probability distribution P(R, C | S = T, W = T) (4 point) "
   ]
  },
  {
   "cell_type": "code",
   "execution_count": 13,
   "metadata": {},
   "outputs": [],
   "source": [
    "class GibbsSampler:\n",
    "    def __init__(self, C_prob: pd.DataFrame, R_prob: pd.DataFrame, S_prob: pd.DataFrame, W_prob: pd.DataFrame, e: dict):\n",
    "        \"\"\"\n",
    "        Args:\n",
    "            C_prob: conditional probability DataFrame for P(C)\n",
    "            R_prob: conditional probability DataFrame for P(R|C)\n",
    "            S_prob: conditional probability DataFrame for P(S|C)\n",
    "            W_prob: conditional probabilityDataFrame for P(W|R, S)\n",
    "            e: dictionary with evidence variables \n",
    "        \"\"\"\n",
    "        self.C_prob = C_prob\n",
    "        self.R_prob = R_prob\n",
    "        self.S_prob = S_prob\n",
    "        self.W_prob = W_prob\n",
    "        self.e = e\n",
    "        self.samples_matrix = np.empty((0, 4))\n",
    "    \n",
    "    def calculate_C_prob(self, current_state: list, C_value: str):\n",
    "        \"\"\"\n",
    "        Args:\n",
    "            current_state: list of current state of the variables [C, R, S, W]\n",
    "        Return: \n",
    "            probability of passed C value\n",
    "        \"\"\"\n",
    "        nominator = self.C_prob.loc[0, C_value] * self.R_prob.loc[self.R_prob.loc[:, 'C'] == C_value, [current_state[1]]].iloc[0, 0] * self.S_prob.loc[self.S_prob.loc[:, 'C'] == C_value, [current_state[2]]].iloc[0, 0]\n",
    "        denominator = (self.C_prob.loc[0, 'T'] * self.R_prob.loc[self.R_prob.loc[:, 'C'] == 'T', [current_state[1]]].iloc[0, 0] * self.S_prob.loc[self.S_prob.loc[:, 'C'] == 'T', [current_state[2]]].iloc[0, 0] + \n",
    "                        self.C_prob.loc[0, 'F'] * self.R_prob.loc[self.R_prob.loc[:, 'C'] == 'F', [current_state[1]]].iloc[0, 0] * self.S_prob.loc[self.S_prob.loc[:, 'C'] == 'F', [current_state[2]]].iloc[0, 0])\n",
    "        return nominator/denominator\n",
    "        \n",
    "    def calculate_R_prob(self, current_state: list, R_value: str):\n",
    "        \"\"\"\n",
    "        Args:\n",
    "            current_state: list of current state of the variables [C, R, S, W]\n",
    "        Return:\n",
    "            probability of passed R value\n",
    "        \"\"\"\n",
    "        nominator = float(self.R_prob.loc[self.R_prob.loc[:, 'C'] == current_state[0], R_value]) * float(self.W_prob.loc[(self.W_prob.loc[:, 'S'] == current_state[2]) & (self.W_prob.loc[:, 'R'] == R_value), current_state[3]])\n",
    "        denominator = (float(self.R_prob.loc[self.R_prob.loc[:, 'C'] == current_state[0], 'T']) * float(self.W_prob.loc[(self.W_prob.loc[:, 'S'] == current_state[2]) & (self.W_prob.loc[:, 'R'] == 'T'), current_state[3]]) +\n",
    "                        float(self.R_prob.loc[self.R_prob.loc[:, 'C'] == current_state[0], 'F']) * float(self.W_prob.loc[(self.W_prob.loc[:, 'S'] == current_state[2]) & (self.W_prob.loc[:, 'R'] == 'F'), current_state[3]]))\n",
    "        return nominator/denominator\n",
    "\n",
    "    def calculate_S_prob(self, current_state: list, S_value: str):\n",
    "        \"\"\"\n",
    "        Args:\n",
    "            current_state: list of current state of the variables [C, R, S, W]\n",
    "        Return:\n",
    "            probability of passed S value\n",
    "        \"\"\"\n",
    "        nominator = float(self.S_prob.loc[self.S_prob.loc[:, 'C'] == current_state[0], S_value]) * float(self.W_prob.loc[(self.W_prob.loc[:, 'R'] == current_state[1]) & (self.W_prob.loc[:, 'S'] == S_value), current_state[3]])\n",
    "        denominator = (float(self.S_prob.loc[self.S_prob.loc[:, 'C'] == current_state[0], 'T']) * float(self.W_prob.loc[(self.W_prob.loc[:, 'R'] == current_state[1]) & (self.W_prob.loc[:, 'S'] == 'T'), current_state[3]]) +\n",
    "                        float(self.S_prob.loc[self.S_prob.loc[:, 'C'] == current_state[0], 'F']) * float(self.W_prob.loc[(self.W_prob.loc[:, 'R'] == current_state[1]) & (self.W_prob.loc[:, 'S'] == 'F'), current_state[3]]))\n",
    "        return nominator/denominator\n",
    "    \n",
    "    def calculate_W_prob(self, current_state: list, W_value: str):\n",
    "        \"\"\"\n",
    "        Args:\n",
    "            current_state: list of current state of the variables [C, R, S, W]\n",
    "        Return:\n",
    "            sampled value of W\n",
    "        \"\"\"\n",
    "        nominator = self.W_prob.loc[(self.W_prob.loc[:, 'R'] == current_state[1]) & (self.W_prob.loc[:, 'S'] == current_state[2]), W_value]\n",
    "        denominator = (self.W_prob.loc[(self.W_prob.loc[:, 'R'] == current_state[1]) & (self.W_prob.loc[:, 'S'] == current_state[2]), 'T'] +\n",
    "                        self.W_prob.loc[(self.W_prob.loc[:, 'R'] == current_state[1]) & (self.W_prob.loc[:, 'S'] == current_state[2]), 'F'])\n",
    "        return nominator/denominator    \n",
    "    \n",
    "    def choose_value(self, current_state: list, calculate_prob):\n",
    "        \"\"\"\n",
    "        Args:\n",
    "            current_state: list of current state of the variables [C, R, S, W]\n",
    "            calculate_prob: function to calculate probability of each value\n",
    "        Return:\n",
    "            sampled value\n",
    "        \"\"\"\n",
    "        prob_true = calculate_prob(current_state, 'T')\n",
    "        prob_false = calculate_prob(current_state, 'F')\n",
    "        return np.random.choice(['T', 'F'], p=[prob_true, prob_false])\n",
    "    \n",
    "    def sample(self, n: int):\n",
    "        \"\"\"\n",
    "        Args:\n",
    "            n: number of samples to be generated\n",
    "        \"\"\"\n",
    "        variales = ['C', 'R', 'S', 'W']\n",
    "        x_variables = []\n",
    "        init_step = []\n",
    "        for var in variales:\n",
    "            if var in self.e.keys():\n",
    "                init_step.append(self.e[var])\n",
    "            else:\n",
    "                init_step.append(np.random.choice(['T', 'F']))\n",
    "                x_variables.append(var)\n",
    "        # add initial step to samples matrix\n",
    "        self.samples_matrix = np.append(self.samples_matrix, np.array([init_step]), axis=0)\n",
    "        # start sampling\n",
    "        for i in tqdm(range(n)):\n",
    "            xi = np.random.choice(x_variables)\n",
    "            current_step = self.samples_matrix[i].copy()\n",
    "            idx = variales.index(xi)\n",
    "            if xi == 'C':\n",
    "                current_step[idx] = self.choose_value(current_step, self.calculate_C_prob)\n",
    "            elif xi == 'R':\n",
    "                current_step[idx] = self.choose_value(current_step, self.calculate_R_prob)\n",
    "            elif xi == 'S':\n",
    "                current_step[idx] = self.choose_value(current_step, self.calculate_S_prob)\n",
    "            elif xi == 'W':\n",
    "                current_step[idx] = self.choose_value(current_step, self.calculate_W_prob)\n",
    "            self.samples_matrix = np.append(self.samples_matrix, np.array([current_step]), axis=0)\n",
    "            \n",
    "        return pd.DataFrame(self.samples_matrix, columns=['C', 'R', 'S', 'W']).iloc[1:, :]           "
   ]
  },
  {
   "cell_type": "code",
   "execution_count": 4,
   "metadata": {},
   "outputs": [],
   "source": [
    "C_prob = pd.DataFrame({'T': 0.5, 'F': 0.5}, index=[0])\n",
    "R_prob = pd.DataFrame({'C': ['T', 'F'], 'T': [0.8, 0.2], 'F': [0.2, 0.8]})\n",
    "S_prob = pd.DataFrame({'C': ['T', 'F'], 'T': [0.1, 0.5], 'F': [0.9, 0.5]})\n",
    "W_prob = pd.DataFrame({'R': ['T', 'T', 'F', 'F'], 'S': ['T', 'F', 'T', 'F'], 'T': [0.99, 0.9, 0.9, 0.01], 'F': [0.01, 0.1, 0.1, 0.99]})\n",
    "evidence = {'S': 'T', 'W': 'T'}"
   ]
  },
  {
   "cell_type": "code",
   "execution_count": 14,
   "metadata": {},
   "outputs": [
    {
     "name": "stderr",
     "output_type": "stream",
     "text": [
      "100%|██████████| 100/100 [00:01<00:00, 68.62it/s]\n"
     ]
    },
    {
     "data": {
      "text/html": [
       "<div>\n",
       "<style scoped>\n",
       "    .dataframe tbody tr th:only-of-type {\n",
       "        vertical-align: middle;\n",
       "    }\n",
       "\n",
       "    .dataframe tbody tr th {\n",
       "        vertical-align: top;\n",
       "    }\n",
       "\n",
       "    .dataframe thead th {\n",
       "        text-align: right;\n",
       "    }\n",
       "</style>\n",
       "<table border=\"1\" class=\"dataframe\">\n",
       "  <thead>\n",
       "    <tr style=\"text-align: right;\">\n",
       "      <th></th>\n",
       "      <th>C</th>\n",
       "      <th>R</th>\n",
       "      <th>S</th>\n",
       "      <th>W</th>\n",
       "    </tr>\n",
       "  </thead>\n",
       "  <tbody>\n",
       "    <tr>\n",
       "      <th>1</th>\n",
       "      <td>F</td>\n",
       "      <td>F</td>\n",
       "      <td>T</td>\n",
       "      <td>T</td>\n",
       "    </tr>\n",
       "    <tr>\n",
       "      <th>2</th>\n",
       "      <td>F</td>\n",
       "      <td>F</td>\n",
       "      <td>T</td>\n",
       "      <td>T</td>\n",
       "    </tr>\n",
       "    <tr>\n",
       "      <th>3</th>\n",
       "      <td>F</td>\n",
       "      <td>F</td>\n",
       "      <td>T</td>\n",
       "      <td>T</td>\n",
       "    </tr>\n",
       "    <tr>\n",
       "      <th>4</th>\n",
       "      <td>F</td>\n",
       "      <td>T</td>\n",
       "      <td>T</td>\n",
       "      <td>T</td>\n",
       "    </tr>\n",
       "    <tr>\n",
       "      <th>5</th>\n",
       "      <td>F</td>\n",
       "      <td>T</td>\n",
       "      <td>T</td>\n",
       "      <td>T</td>\n",
       "    </tr>\n",
       "    <tr>\n",
       "      <th>...</th>\n",
       "      <td>...</td>\n",
       "      <td>...</td>\n",
       "      <td>...</td>\n",
       "      <td>...</td>\n",
       "    </tr>\n",
       "    <tr>\n",
       "      <th>96</th>\n",
       "      <td>F</td>\n",
       "      <td>F</td>\n",
       "      <td>T</td>\n",
       "      <td>T</td>\n",
       "    </tr>\n",
       "    <tr>\n",
       "      <th>97</th>\n",
       "      <td>F</td>\n",
       "      <td>F</td>\n",
       "      <td>T</td>\n",
       "      <td>T</td>\n",
       "    </tr>\n",
       "    <tr>\n",
       "      <th>98</th>\n",
       "      <td>F</td>\n",
       "      <td>F</td>\n",
       "      <td>T</td>\n",
       "      <td>T</td>\n",
       "    </tr>\n",
       "    <tr>\n",
       "      <th>99</th>\n",
       "      <td>F</td>\n",
       "      <td>F</td>\n",
       "      <td>T</td>\n",
       "      <td>T</td>\n",
       "    </tr>\n",
       "    <tr>\n",
       "      <th>100</th>\n",
       "      <td>F</td>\n",
       "      <td>F</td>\n",
       "      <td>T</td>\n",
       "      <td>T</td>\n",
       "    </tr>\n",
       "  </tbody>\n",
       "</table>\n",
       "<p>100 rows × 4 columns</p>\n",
       "</div>"
      ],
      "text/plain": [
       "     C  R  S  W\n",
       "1    F  F  T  T\n",
       "2    F  F  T  T\n",
       "3    F  F  T  T\n",
       "4    F  T  T  T\n",
       "5    F  T  T  T\n",
       "..  .. .. .. ..\n",
       "96   F  F  T  T\n",
       "97   F  F  T  T\n",
       "98   F  F  T  T\n",
       "99   F  F  T  T\n",
       "100  F  F  T  T\n",
       "\n",
       "[100 rows x 4 columns]"
      ]
     },
     "execution_count": 14,
     "metadata": {},
     "output_type": "execute_result"
    }
   ],
   "source": [
    "GB = GibbsSampler(C_prob, R_prob, S_prob, W_prob, evidence)\n",
    "samples = GB.sample(100)\n",
    "samples"
   ]
  },
  {
   "cell_type": "code",
   "execution_count": 15,
   "metadata": {},
   "outputs": [
    {
     "data": {
      "text/plain": [
       "0.29"
      ]
     },
     "execution_count": 15,
     "metadata": {},
     "output_type": "execute_result"
    }
   ],
   "source": [
    "R_true_count = len(samples.loc[samples.loc[:, 'R'] == 'T', :])\n",
    "prob = R_true_count/len(samples)\n",
    "prob"
   ]
  },
  {
   "cell_type": "markdown",
   "metadata": {},
   "source": [
    "# Convergence Diagnostics"
   ]
  },
  {
   "cell_type": "code",
   "execution_count": 9,
   "metadata": {},
   "outputs": [
    {
     "name": "stderr",
     "output_type": "stream",
     "text": [
      "100%|██████████| 50000/50000 [11:20<00:00, 73.45it/s] \n",
      "100%|██████████| 50000/50000 [17:59<00:00, 46.33it/s]\n"
     ]
    }
   ],
   "source": [
    "samples_50000_1 = GB.sample(50000)\n",
    "samples_50000_2 = GB.sample(50000)"
   ]
  },
  {
   "cell_type": "code",
   "execution_count": 11,
   "metadata": {},
   "outputs": [
    {
     "data": {
      "text/plain": [
       "0.32117123410710363"
      ]
     },
     "execution_count": 11,
     "metadata": {},
     "output_type": "execute_result"
    }
   ],
   "source": [
    "R_true_count = len(samples_50000_1.loc[samples_50000_1.loc[:, 'R'] == 'T', :])\n",
    "prob = R_true_count/len(samples_50000_1)\n",
    "prob"
   ]
  },
  {
   "cell_type": "code",
   "execution_count": null,
   "metadata": {},
   "outputs": [],
   "source": [
    "# first run of the sampler\n",
    "samples_50000_1['step'] = np.arange(0, len(samples_50000_1))\n",
    "# for each step calculate frequency of R = T\n",
    "samples_50000_1['R_freq'] = samples_50000_1.loc[:, 'R'].rolling(50000).sum()"
   ]
  },
  {
   "cell_type": "code",
   "execution_count": 19,
   "metadata": {},
   "outputs": [],
   "source": [
    "# first run of the sampler\n",
    "samples_50000_1['step'] = np.arange(1, len(samples_50000_1)+1)\n",
    "# for each step calculate frequency of R = T\n",
    "samples_50000_1['R_true_count'] = 0\n",
    "samples_50000_1['C_true_count'] = 0\n",
    "# for each row take the value of R_freq of previous row and add 1 if R = T\n",
    "samples_50000_1['R_true_count'] = samples_50000_1['R'].apply(lambda x: 1 if x == 'T' else 0).cumsum()\n",
    "samples_50000_1['C_true_count'] = samples_50000_1['C'].apply(lambda x: 1 if x == 'T' else 0).cumsum()\n",
    "\n",
    "samples_50000_1['R_freq'] = samples_50000_1['R_true_count']/samples_50000_1['step']\n",
    "samples_50000_1['C_freq'] = samples_50000_1['C_true_count']/samples_50000_1['step']"
   ]
  },
  {
   "cell_type": "code",
   "execution_count": 20,
   "metadata": {},
   "outputs": [
    {
     "data": {
      "text/plain": [
       "<AxesSubplot:xlabel='step'>"
      ]
     },
     "execution_count": 20,
     "metadata": {},
     "output_type": "execute_result"
    },
    {
     "data": {
      "image/png": "[encoded data removed]",
      "text/plain": [
       "<Figure size 720x360 with 1 Axes>"
      ]
     },
     "metadata": {
      "needs_background": "light"
     },
     "output_type": "display_data"
    },
    {
     "data": {
      "image/png": "[encoded data removed]",
      "text/plain": [
       "<Figure size 720x360 with 1 Axes>"
      ]
     },
     "metadata": {
      "needs_background": "light"
     },
     "output_type": "display_data"
    }
   ],
   "source": [
    "samples_50000_1.plot(x='step', y='R_freq', figsize=(10, 5))\n",
    "samples_50000_1.plot(x='step', y='C_freq', figsize=(10, 5))"
   ]
  },
  {
   "cell_type": "code",
   "execution_count": 17,
   "metadata": {},
   "outputs": [
    {
     "data": {
      "text/plain": [
       "<AxesSubplot:title={'center':'Frequency of R = T'}, xlabel='step'>"
      ]
     },
     "execution_count": 17,
     "metadata": {},
     "output_type": "execute_result"
    },
    {
     "data": {
      "image/png": "[encoded data removed]",
      "text/plain": [
       "<Figure size 720x360 with 1 Axes>"
      ]
     },
     "metadata": {
      "needs_background": "light"
     },
     "output_type": "display_data"
    }
   ],
   "source": [
    "# first run of the sampler\n",
    "samples_50000_2['step'] = np.arange(1, len(samples_50000_2)+1)\n",
    "# for each step calculate frequency of R = T\n",
    "samples_50000_2['R_true_count'] = 0\n",
    "# for each row take the value of R_freq of previous row and add 1 if R = T\n",
    "samples_50000_2['R_true_count'] = samples_50000_2['R'].apply(lambda x: 1 if x == 'T' else 0).cumsum()\n",
    "\n",
    "samples_50000_2['R_freq'] = samples_50000_2['R_true_count']/samples_50000_2['step']\n",
    "samples_50000_2.plot(x='step', y='R_freq', figsize=(10, 5), title='Frequency of R = T')"
   ]
  }
 ],
 "metadata": {
  "kernelspec": {
   "display_name": "mgr",
   "language": "python",
   "name": "python3"
  },
  "language_info": {
   "codemirror_mode": {
    "name": "ipython",
    "version": 3
   },
   "file_extension": ".py",
   "mimetype": "text/x-python",
   "name": "python",
   "nbconvert_exporter": "python",
   "pygments_lexer": "ipython3",
   "version": "3.10.8"
  },
  "orig_nbformat": 4,
  "vscode": {
   "interpreter": {
    "hash": "bb3ccd035c23b8ada290d5d37299d9149a4bdffd50510708ef6371eb670d5802"
   }
  }
 },
 "nbformat": 4,
 "nbformat_minor": 2
}
